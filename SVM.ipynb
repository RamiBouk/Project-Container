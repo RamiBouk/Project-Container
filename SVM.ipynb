{
 "cells": [
  {
   "cell_type": "code",
   "execution_count": 1,
   "id": "c9eaaaa3",
   "metadata": {},
   "outputs": [],
   "source": [
    "from sklearn.metrics import classification_report\n",
    "from sklearn.model_selection import train_test_split\n",
    "from sklearn.naive_bayes import GaussianNB # modele d'exemple a modifier\n",
    "import matplotlib.pyplot as plt\n",
    "import seaborn as sns\n",
    "import pandas as pd\n",
    "import pickle"
   ]
  },
  {
   "cell_type": "code",
   "execution_count": 3,
   "id": "a7ca9d2f",
   "metadata": {
    "scrolled": true
   },
   "outputs": [],
   "source": [
    "# Import data\n",
    "data = pd.read_csv('data/train_diabetes_health_indicators.csv')\n",
    "data['Diabetes_012'] = data['Diabetes_012'].astype(int)\n",
    "data = data.drop(columns=['Unnamed: 0'])\n",
    "X = data.drop(columns=['Diabetes_012'])\n",
    "y = data['Diabetes_012']\n"
   ]
  },
  {
   "cell_type": "code",
   "execution_count": null,
   "id": "47e77b11",
   "metadata": {},
   "outputs": [],
   "source": [
    "Data Exploring\n",
    "\n",
    "# Analyse data\n",
    "\n",
    "data.head()"
   ]
  },
  {
   "cell_type": "code",
   "execution_count": null,
   "id": "ca76fda1",
   "metadata": {},
   "outputs": [],
   "source": [
    "data.shape"
   ]
  },
  {
   "cell_type": "code",
   "execution_count": null,
   "id": "b5cdd4c4",
   "metadata": {},
   "outputs": [],
   "source": [
    "data.duplicated().sum()"
   ]
  },
  {
   "cell_type": "code",
   "execution_count": null,
   "id": "b9bd5c65",
   "metadata": {},
   "outputs": [],
   "source": [
    "data.describe()"
   ]
  },
  {
   "cell_type": "code",
   "execution_count": null,
   "id": "6c824fd2",
   "metadata": {},
   "outputs": [],
   "source": [
    "data.nunique()"
   ]
  },
  {
   "cell_type": "code",
   "execution_count": null,
   "id": "1613fd77",
   "metadata": {},
   "outputs": [],
   "source": [
    "data.dtypes"
   ]
  },
  {
   "cell_type": "code",
   "execution_count": null,
   "id": "8124d1b1",
   "metadata": {},
   "outputs": [],
   "source": [
    "data[\"Diabetes_012\"].value_counts().plot.pie( autopct='%1.1f%%',shadow=True, startangle=90);\n"
   ]
  },
  {
   "cell_type": "code",
   "execution_count": null,
   "id": "3fe48d39",
   "metadata": {},
   "outputs": [],
   "source": [
    "plt.figure(figsize = (20,10))\n",
    "sns.heatmap(X.corr(),annot=True , cmap ='YlOrRd' )\n",
    "plt.title(\"correlation of feature\")\n",
    "plt.show()"
   ]
  },
  {
   "cell_type": "code",
   "execution_count": null,
   "id": "018223e8",
   "metadata": {},
   "outputs": [],
   "source": [
    "# BOX plot\n",
    "import matplotlib.pyplot as plt\n",
    "\n",
    "for column in data:\n",
    "        if(data[column].nunique()>3):\n",
    "                plt.figure(figsize=(17,1))\n",
    "                sns.boxplot(data=data, x=column)"
   ]
  },
  {
   "cell_type": "code",
   "execution_count": null,
   "id": "b9acc554",
   "metadata": {},
   "outputs": [],
   "source": [
    "# Remove outliers \n",
    "data=data[data[\"BMI\"]>45]\n",
    "data=data[data[\"GenHlth\"]>4]\n",
    "data=data[data[\"MentHlth\"]>10]\n",
    "data=data[data[\"PhysHlth\"]>5]\n"
   ]
  },
  {
   "cell_type": "code",
   "execution_count": null,
   "id": "2a7ef496",
   "metadata": {},
   "outputs": [],
   "source": [
    "### Feature Selection (Pearson Correlation) and split data\n",
    "\n",
    "pearson_list = []\n",
    "for l in list(X.columns):\n",
    "    p,_ = pearsonr(X[l], y)\n",
    "    pearson_list.append(abs(p))\n",
    "    \n",
    "p_value=pd.Series(pearson_list,index=X.columns)\n",
    "p_value.sort_values(ascending=False,inplace=True)\n",
    "high_score_features_pearson = list(p_value.index[:15]) #we took only 15 features\n",
    "print(high_score_features_pearson)\n",
    "\n",
    "X=X[high_score_features_pearson]\n",
    "\n",
    "# Split data into train and test\n",
    "X_train, X_test, y_train, y_test = train_test_split(X, y, test_size=0.2, random_state=42)"
   ]
  },
  {
   "cell_type": "code",
   "execution_count": null,
   "id": "f2f33850",
   "metadata": {},
   "outputs": [],
   "source": [
    "# UNDER Sampling   equilibrage data\n",
    "from imblearn.over_sampling import SMOTE\n",
    "from imblearn.under_sampling import RandomUnderSampler\n",
    "\n",
    "random_under_sampler = RandomUnderSampler(random_state=42)\n",
    "X_train, y_train =random_under_sampler.fit_resample(X_train, y_train)"
   ]
  },
  {
   "cell_type": "code",
   "execution_count": null,
   "id": "b2d2d8dc",
   "metadata": {},
   "outputs": [],
   "source": [
    "#show\n",
    "y_train.value_counts().plot(kind='bar', color='skyblue', edgecolor='black')\n",
    "plt.title('Class Distribution after balancing')\n",
    "plt.xlabel('Class Labels')\n",
    "plt.ylabel('Count')"
   ]
  },
  {
   "cell_type": "code",
   "execution_count": null,
   "id": "6f7d02f0",
   "metadata": {},
   "outputs": [],
   "source": [
    "### Normalisation\n",
    "from sklearn.preprocessing import StandardScaler\n",
    "\n",
    "# Supposons que X_train et X_test sont vos ensembles de données d'entraînement et de test respectivement\n",
    "\n",
    "# Initialisez le StandardScaler\n",
    "scaler = StandardScaler()\n",
    "\n",
    "# Calculez la moyenne et l'écart type sur X_train\n",
    "scaler.fit(X_train)\n",
    "\n",
    "# Transformez X_train et X_test en utilisant la standardisation\n",
    "X_train_standardized = scaler.transform(X_train)\n",
    "X_test_standardized = scaler.transform(X_test)\n"
   ]
  },
  {
   "cell_type": "code",
   "execution_count": null,
   "id": "1538528e",
   "metadata": {},
   "outputs": [],
   "source": [
    "#fit\n",
    "# Initialize the model\n",
    "#---- à modifier en utilisant l'un des trois modeles : SVM, RandomForest et GradientBoosting ----\n",
    "clf = SVC(kernel='rbf')\n",
    "\n",
    "# Train the model\n",
    "clf.fit(X_train, y_train)"
   ]
  },
  {
   "cell_type": "code",
   "execution_count": null,
   "id": "33d45f27",
   "metadata": {},
   "outputs": [],
   "source": [
    "# Predict on test data\n",
    "pred = clf.predict(X_test)"
   ]
  },
  {
   "cell_type": "code",
   "execution_count": null,
   "id": "9f5bdd20",
   "metadata": {},
   "outputs": [],
   "source": [
    "# grid search \n",
    "from sklearn.model_selection import GridSearchCV, train_test_split\n",
    "from sklearn.svm import SVC\n",
    "from sklearn.datasets import load_iris\n",
    "from sklearn.preprocessing import StandardScaler\n",
    "from sklearn.metrics import classification_report\n",
    "\n",
    "\n",
    "\n",
    "\n",
    "\n",
    "# Définir les paramètres à tester dans la recherche sur grille\n",
    "param_grid = {\n",
    "    #'C': [0.1, 1, 10, 100],\n",
    "    #'gamma': [0.001, 0.01, 0.1, 1],\n",
    "    'kernel': ['linear', 'rbf', 'poly', 'sigmoid']\n",
    "}\n",
    "\n",
    "# Créer un modèle SVM\n",
    "svm_model = SVC()\n",
    "\n",
    "# Créer un objet GridSearchCV\n",
    "grid_search = GridSearchCV(estimator=svm_model, param_grid=param_grid, cv=5, scoring='accuracy')\n",
    "\n",
    "# Exécuter la recherche sur grille sur les données d'entraînement\n",
    "grid_search.fit(X_train, y_train)\n",
    "\n",
    "# Extraire les meilleurs paramètres\n",
    "best_params = grid_search.best_params_\n",
    "print(\"Meilleurs paramètres:\", best_params)\n",
    "\n",
    "# Extraire le meilleur modèle\n",
    "best_model = grid_search.best_estimator_\n",
    "\n",
    "# Faire des prédictions sur l'ensemble de test avec le meilleur modèle\n",
    "y_pred = best_model.predict(X_test)\n",
    "\n",
    "# Évaluer la précision du modèle\n",
    "accuracy = best_model.score(X_test, y_test)\n",
    "print(\"Accuracy:\", accuracy)\n",
    "\n",
    "# Autres métriques d'évaluation\n",
    "print(classification_report(y_test, y_pred))\n"
   ]
  },
  {
   "cell_type": "code",
   "execution_count": null,
   "id": "64898d96",
   "metadata": {},
   "outputs": [],
   "source": [
    "from sklearn.model_selection import cross_val_score, train_test_split\n",
    "from sklearn.svm import SVC\n",
    "from sklearn.datasets import load_iris\n",
    "from sklearn.preprocessing import StandardScaler\n",
    "from sklearn.metrics import classification_report\n",
    "# Créer un modèle SVM\n",
    "\n",
    "svm_model = SVC() \n",
    "\n",
    "# Effectuer une validation croisée sur l'ensemble d'entraînement\n",
    "cv_scores = cross_val_score(svm_model, X_train, y_train, cv=5, scoring='accuracy')\n",
    "\n",
    "# Afficher les scores de validation croisée\n",
    "print(\"Scores de validation croisée:\", cv_scores)\n",
    "print(\"Moyenne des scores de validation croisée:\", cv_scores.mean())"
   ]
  },
  {
   "cell_type": "code",
   "execution_count": null,
   "id": "4c64f52b",
   "metadata": {},
   "outputs": [],
   "source": [
    "# Evaluate model predictions\n",
    "print(f'Classification_report:\\n {classification_report(y_test,pred)}')"
   ]
  }
 ],
 "metadata": {
  "kernelspec": {
   "display_name": "Python 3 (ipykernel)",
   "language": "python",
   "name": "python3"
  },
  "language_info": {
   "codemirror_mode": {
    "name": "ipython",
    "version": 3
   },
   "file_extension": ".py",
   "mimetype": "text/x-python",
   "name": "python",
   "nbconvert_exporter": "python",
   "pygments_lexer": "ipython3",
   "version": "3.11.5"
  }
 },
 "nbformat": 4,
 "nbformat_minor": 5
}
