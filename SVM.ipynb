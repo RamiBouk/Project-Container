{
 "cells": [
  {
   "cell_type": "code",
   "execution_count": 1,
   "id": "c9eaaaa3",
   "metadata": {},
   "outputs": [],
   "source": [
    "from sklearn.metrics import classification_report\n",
    "from sklearn.model_selection import train_test_split\n",
    "from sklearn.naive_bayes import GaussianNB # modele d'exemple a modifier\n",
    "import matplotlib.pyplot as plt\n",
    "import seaborn as sns\n",
    "import pandas as pd\n",
    "import pickle"
   ]
  },
  {
   "cell_type": "code",
   "execution_count": 3,
   "id": "a7ca9d2f",
   "metadata": {
    "scrolled": true
   },
   "outputs": [],
   "source": [
    "# Import data\n",
    "data = pd.read_csv('data/train_diabetes_health_indicators.csv')\n",
    "data['Diabetes_012'] = data['Diabetes_012'].astype(int)\n",
    "data = data.drop(columns=['Unnamed: 0'])\n",
    "X = data.drop(columns=['Diabetes_012'])\n",
    "y = data['Diabetes_012']\n"
   ]
  },
  {
   "cell_type": "code",
   "execution_count": null,
   "id": "6fa78e90",
   "metadata": {},
   "outputs": [],
   "source": [
    "Data Exploring\n",
    "\n",
    "# Analyse data\n",
    "\n",
    "data.head()"
   ]
  },
  {
   "cell_type": "code",
   "execution_count": null,
   "id": "57fc8f4a",
   "metadata": {},
   "outputs": [],
   "source": [
    "data.shape"
   ]
  },
  {
   "cell_type": "code",
   "execution_count": null,
   "id": "dfbf041c",
   "metadata": {},
   "outputs": [],
   "source": [
    "data.duplicated().sum()"
   ]
  },
  {
   "cell_type": "code",
   "execution_count": null,
   "id": "f41991f4",
   "metadata": {},
   "outputs": [],
   "source": [
    "data.describe()"
   ]
  },
  {
   "cell_type": "code",
   "execution_count": null,
   "id": "e604e826",
   "metadata": {},
   "outputs": [],
   "source": [
    "data.nunique()"
   ]
  },
  {
   "cell_type": "code",
   "execution_count": null,
   "id": "dd949d38",
   "metadata": {},
   "outputs": [],
   "source": [
    "data.dtypes"
   ]
  },
  {
   "cell_type": "code",
   "execution_count": null,
   "id": "fc6fae30",
   "metadata": {},
   "outputs": [],
   "source": [
    "data[\"Diabetes_012\"].value_counts().plot.pie( autopct='%1.1f%%',shadow=True, startangle=90);\n"
   ]
  },
  {
   "cell_type": "code",
   "execution_count": null,
   "id": "569d6b1f",
   "metadata": {},
   "outputs": [],
   "source": [
    "plt.figure(figsize = (20,10))\n",
    "sns.heatmap(X.corr(),annot=True , cmap ='YlOrRd' )\n",
    "plt.title(\"correlation of feature\")\n",
    "plt.show()"
   ]
  },
  {
   "cell_type": "code",
   "execution_count": null,
   "id": "0f2d6eb8",
   "metadata": {},
   "outputs": [],
   "source": [
    "# BOX plot\n",
    "import matplotlib.pyplot as plt\n",
    "\n",
    "for column in data:\n",
    "        if(data[column].nunique()>3):\n",
    "                plt.figure(figsize=(17,1))\n",
    "                sns.boxplot(data=data, x=column)"
   ]
  },
  {
   "cell_type": "code",
   "execution_count": null,
   "id": "24939de3",
   "metadata": {},
   "outputs": [],
   "source": [
    "# Remove outliers \n",
    "data=data[data[\"BMI\"]>45]\n",
    "data=data[data[\"GenHlth\"]>4]\n",
    "data=data[data[\"MentHlth\"]>10]\n",
    "data=data[data[\"PhysHlth\"]>5]\n"
   ]
  },
  {
   "cell_type": "code",
   "execution_count": null,
   "id": "0c3437e4",
   "metadata": {},
   "outputs": [],
   "source": [
    "### Feature Selection (Pearson Correlation) and split data\n",
    "\n",
    "pearson_list = []\n",
    "for l in list(X.columns):\n",
    "    p,_ = pearsonr(X[l], y)\n",
    "    pearson_list.append(abs(p))\n",
    "    \n",
    "p_value=pd.Series(pearson_list,index=X.columns)\n",
    "p_value.sort_values(ascending=False,inplace=True)\n",
    "high_score_features_pearson = list(p_value.index[:15]) #we took only 15 features\n",
    "print(high_score_features_pearson)\n",
    "\n",
    "X=X[high_score_features_pearson]\n",
    "\n",
    "# Split data into train and test\n",
    "X_train, X_test, y_train, y_test = train_test_split(X, y, test_size=0.2, random_state=42)"
   ]
  },
  {
   "cell_type": "code",
   "execution_count": null,
   "id": "291f4c1c",
   "metadata": {},
   "outputs": [],
   "source": [
    "# UNDER Sampling   equilibrage data\n",
    "from imblearn.over_sampling import SMOTE\n",
    "from imblearn.under_sampling import RandomUnderSampler\n",
    "\n",
    "random_under_sampler = RandomUnderSampler(random_state=42)\n",
    "X_train, y_train =random_under_sampler.fit_resample(X_train, y_train)"
   ]
  },
  {
   "cell_type": "code",
   "execution_count": null,
   "id": "886ade89",
   "metadata": {},
   "outputs": [],
   "source": [
    "#show\n",
    "y_train.value_counts().plot(kind='bar', color='skyblue', edgecolor='black')\n",
    "plt.title('Class Distribution after balancing')\n",
    "plt.xlabel('Class Labels')\n",
    "plt.ylabel('Count')"
   ]
  },
  {
   "cell_type": "code",
   "execution_count": null,
   "id": "3d4edf71",
   "metadata": {},
   "outputs": [],
   "source": [
    "### Normalisation\n",
    "from sklearn.preprocessing import StandardScaler\n",
    "\n",
    "# Supposons que X_train et X_test sont vos ensembles de données d'entraînement et de test respectivement\n",
    "\n",
    "# Initialisez le StandardScaler\n",
    "scaler = StandardScaler()\n",
    "\n",
    "# Calculez la moyenne et l'écart type sur X_train\n",
    "scaler.fit(X_train)\n",
    "\n",
    "# Transformez X_train et X_test en utilisant la standardisation\n",
    "X_train_standardized = scaler.transform(X_train)\n",
    "X_test_standardized = scaler.transform(X_test)\n"
   ]
  },
  {
   "cell_type": "code",
   "execution_count": null,
   "id": "cf50ae78",
   "metadata": {},
   "outputs": [],
   "source": [
    "#fit\n",
    "# Initialize the model\n",
    "#---- à modifier en utilisant l'un des trois modeles : SVM, RandomForest et GradientBoosting ----\n",
    "clf = SVC(kernel='rbf')\n",
    "\n",
    "# Train the model\n",
    "clf.fit(X_train, y_train)"
   ]
  },
  {
   "cell_type": "code",
   "execution_count": null,
   "id": "c123fc6a",
   "metadata": {},
   "outputs": [],
   "source": [
    "# Predict on test data\n",
    "pred = clf.predict(X_test)"
   ]
  },
  {
   "cell_type": "code",
   "execution_count": null,
   "id": "9b8378c9",
   "metadata": {},
   "outputs": [],
   "source": [
    "# Evaluate model predictions\n",
    "print(f'Classification_report:\\n {classification_report(y_test,pred)}')"
   ]
  }
 ],
 "metadata": {
  "kernelspec": {
   "display_name": "Python 3 (ipykernel)",
   "language": "python",
   "name": "python3"
  },
  "language_info": {
   "codemirror_mode": {
    "name": "ipython",
    "version": 3
   },
   "file_extension": ".py",
   "mimetype": "text/x-python",
   "name": "python",
   "nbconvert_exporter": "python",
   "pygments_lexer": "ipython3",
   "version": "3.11.5"
  }
 },
 "nbformat": 4,
 "nbformat_minor": 5
}
